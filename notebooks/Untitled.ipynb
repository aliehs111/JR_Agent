{
 "cells": [
  {
   "cell_type": "code",
   "execution_count": null,
   "id": "443288cb-adce-4e7d-92b2-204a013936a1",
   "metadata": {},
   "outputs": [],
   "source": [
    "import pandas as pd\n",
    "\n",
    "# Load sample CSV (copy your sample to data/sample.csv)\n",
    "df = pd.read_csv(\"../data/sample.csv\", encoding=\"utf-8\", quotechar='\"')\n",
    "\n",
    "# Validate headers\n",
    "expected = [\"PO Number\", \"Job Number\", \"Customer\", \"Address\", \"Vendor\",\n",
    "            \"Order Date\", \"Entry Date\", \"Ship Date\", \"Delivery Date\",\n",
    "            \"Status\", \"Amount\", \"Vendor Order Number\", \"Ship Via\",\n",
    "            \"Salesperson\", \"Notes\"]\n",
    "assert list(df.columns) == expected, \"Header mismatch\"\n",
    "\n",
    "# Clean\n",
    "df = df.fillna({\"Ship Date\": \"\", \"Delivery Date\": \"\", \"Notes\": \"\"})\n",
    "df[\"Amount\"] = pd.to_numeric(df[\"Amount\"], errors=\"coerce\")\n",
    "for col in [\"Order Date\", \"Entry Date\", \"Ship Date\", \"Delivery Date\"]:\n",
    "    df[col] = pd.to_datetime(df[col], format=\"%m/%d/%Y\", errors=\"coerce\").dt.strftime(\"%Y-%m-%d\")\n",
    "\n",
    "# Transform\n",
    "df[\"Days to Delivery\"] = df[\"Delivery Date\"].apply(\n",
    "    lambda x: (pd.to_datetime(x) - pd.to_datetime(\"2025-09-02\")).days if pd.notnull(x) else None\n",
    ")\n",
    "\n",
    "# Preview\n",
    "df.head()"
   ]
  }
 ],
 "metadata": {
  "kernelspec": {
   "display_name": "Python 3 (ipykernel)",
   "language": "python",
   "name": "python3"
  },
  "language_info": {
   "codemirror_mode": {
    "name": "ipython",
    "version": 3
   },
   "file_extension": ".py",
   "mimetype": "text/x-python",
   "name": "python",
   "nbconvert_exporter": "python",
   "pygments_lexer": "ipython3",
   "version": "3.13.2"
  }
 },
 "nbformat": 4,
 "nbformat_minor": 5
}
